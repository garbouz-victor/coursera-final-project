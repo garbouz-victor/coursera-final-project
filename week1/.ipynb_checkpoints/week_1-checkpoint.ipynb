{
 "cells": [
  {
   "cell_type": "markdown",
   "metadata": {},
   "source": [
    "# Peer-graded Assignment: Описательный анализ данных\n",
    "\n",
    "Часто при работе с пользовательскими данными приходится сталкиваться с тем, что данные предоставляются для работы без описания. При этом не известно, что содержательно представляют собой те или иные признаки, а известны лишь их типы: числовые, категориальные, номинальные переменные. Такие ситуации - не редкость при работе с «чувствительными» данными, например, в сфере банковской аналитики, HR-аналитики, сфере телекоммуникаций, страхования, здравоохранения, недвижимости или ритейла. Тем не менее, с такими данным нужно уметь работать, и нужно уметь проводить на них классические этапы анализа, в частности описательный анализ данных и визуализацию. Именно этим мы займемся на первой неделе.\n",
    "\n",
    "\n",
    "В этом задании мы потренируемся делать описательный анализ и визуализацию так называемых «закрытых» данных - данных, которые предоставляются для анализа и построения моделей без описания. Выборка, с которой мы будем работать прилагается.\n",
    "\n",
    "* Метки классов (здесь `1` соответствует классу `отток`, `-1` - классу `не отток`) – `orange_small_churn_labels.train`\n",
    "* Данные (предоставлены без описания, однако известно, что первые 190 переменных являются числовыми, а оставшиеся 40 - категориальными) – `orange_small_churn_data.train`\n",
    "\n",
    "Скачайте эти файлы [на странице задания](https://www.coursera.org/learn/data-analysis-project/peer/roSOe/opisatiel-nyi-analiz-dannykh) и переходите к выполнению задачи! Результатом выполнения задания является jupyter notebook. Перед отправкой результата убедитесь, что вы выполнили все пункты из задания и это можно понять из вашего notebook'а. Проверьте, что код написан понятно и аккуратно - это поможет вашим сокурсником лучше понять, что вы сделали, и оценить вашу работу.\n",
    "\n",
    "## Инструкции\n",
    "\n",
    "1\\. Загрузите данные `orange_small_churn_data.train` и `orange_small_churn_labels.train`"
   ]
  },
  {
   "cell_type": "code",
   "execution_count": 2,
   "metadata": {},
   "outputs": [],
   "source": [
    "import pandas as pd\n",
    "data = pd.read_csv(\"orange_small_churn_data.train\")\n",
    "labels = pd.read_csv(\"orange_small_churn_labels.train\", header=None)"
   ]
  },
  {
   "cell_type": "code",
   "execution_count": 3,
   "metadata": {},
   "outputs": [
    {
     "name": "stdout",
     "output_type": "stream",
     "text": [
      "   0\n",
      "0 -1\n",
      "1 -1\n",
      "2 -1\n",
      "3  1\n",
      "   Var1  Var2  Var3  Var4  Var5    Var6  Var7  Var8  Var9  Var10   ...    \\\n",
      "0   NaN   NaN   NaN   NaN   NaN  3052.0   NaN   NaN   NaN    NaN   ...     \n",
      "1   NaN   NaN   NaN   NaN   NaN  1813.0   7.0   NaN   NaN    NaN   ...     \n",
      "2   NaN   NaN   NaN   NaN   NaN  1953.0   7.0   NaN   NaN    NaN   ...     \n",
      "\n",
      "    Var221   Var222      Var223  Var224  Var225  Var226   Var227  \\\n",
      "0  Al6ZaUT  vr93T2a  LM8l689qOp     NaN     NaN    fKCe  02N6s8f   \n",
      "1     oslk  6hQ9lNX  LM8l689qOp     NaN    ELof    xb3V     RAYp   \n",
      "2     zCkv  catzS2D  LM8l689qOp     NaN     NaN    FSa2     ZI9m   \n",
      "\n",
      "          Var228  Var229  Var230  \n",
      "0  xwM2aC7IdeMC0     NaN     NaN  \n",
      "1        55YFVY9    mj86     NaN  \n",
      "2  ib5G6X1eUxUn6    mj86     NaN  \n",
      "\n",
      "[3 rows x 230 columns]\n"
     ]
    }
   ],
   "source": [
    "print(labels.head(4))\n",
    "print(data.head(3))"
   ]
  },
  {
   "cell_type": "markdown",
   "metadata": {},
   "source": [
    "2\\. Рассчитайте доли классов `отток` и `не отток`."
   ]
  },
  {
   "cell_type": "code",
   "execution_count": 4,
   "metadata": {},
   "outputs": [
    {
     "data": {
      "text/html": [
       "<div>\n",
       "<style scoped>\n",
       "    .dataframe tbody tr th:only-of-type {\n",
       "        vertical-align: middle;\n",
       "    }\n",
       "\n",
       "    .dataframe tbody tr th {\n",
       "        vertical-align: top;\n",
       "    }\n",
       "\n",
       "    .dataframe thead th {\n",
       "        text-align: right;\n",
       "    }\n",
       "</style>\n",
       "<table border=\"1\" class=\"dataframe\">\n",
       "  <thead>\n",
       "    <tr style=\"text-align: right;\">\n",
       "      <th></th>\n",
       "      <th>rate</th>\n",
       "    </tr>\n",
       "  </thead>\n",
       "  <tbody>\n",
       "    <tr>\n",
       "      <th>-1</th>\n",
       "      <td>0.9256</td>\n",
       "    </tr>\n",
       "    <tr>\n",
       "      <th>1</th>\n",
       "      <td>0.0744</td>\n",
       "    </tr>\n",
       "  </tbody>\n",
       "</table>\n",
       "</div>"
      ],
      "text/plain": [
       "      rate\n",
       "-1  0.9256\n",
       "1   0.0744"
      ]
     },
     "execution_count": 4,
     "metadata": {},
     "output_type": "execute_result"
    }
   ],
   "source": [
    "import numpy as np\n",
    "pd.DataFrame(data=labels.groupby(0).size().reset_index(name='counts')['counts'].apply(lambda x: x/labels.size)).rename(index={0:'-1',1: '1'}, columns={'counts':'rate'})"
   ]
  },
  {
   "cell_type": "markdown",
   "metadata": {},
   "source": [
    "3\\. Рассчитайте корреляции переменных с целевой функцией и проанализируйте полученные данные.\n",
    "\n",
    "Обратите внимание на то, что целевая функция предсталвляет собой бинарную переменную. Теоретически, это не помешает рассчиать, например, корреляцию Пирсона между непрерывной переменной и целевой функцией, онднако анализиоовать полученные результаты будет сложно, корреляция Пирсона просто не рассчитана на такое применение. Кто уже забыл, как действовать в такой ситуации - вспоминить можно вот здесь: https://www.coursera.org/teach/stats-for-data-analysis/content/edit/lecture/prX3S/video-subtitles "
   ]
  },
  {
   "cell_type": "code",
   "execution_count": 5,
   "metadata": {},
   "outputs": [
    {
     "data": {
      "text/plain": [
       "0     NaN\n",
       "1     NaN\n",
       "3     NaN\n",
       "100   NaN\n",
       "Name: Var1, dtype: float64"
      ]
     },
     "execution_count": 5,
     "metadata": {},
     "output_type": "execute_result"
    }
   ],
   "source": [
    "data['Var1'].iloc[[0,1,3, 100]]"
   ]
  },
  {
   "cell_type": "code",
   "execution_count": 6,
   "metadata": {},
   "outputs": [
    {
     "data": {
      "text/plain": [
       "10.900934579439252"
      ]
     },
     "execution_count": 6,
     "metadata": {},
     "output_type": "execute_result"
    }
   ],
   "source": [
    "data['Var1'].iloc[labels.loc[labels[0] == -1].index.values].mean()"
   ]
  },
  {
   "cell_type": "code",
   "execution_count": 7,
   "metadata": {},
   "outputs": [
    {
     "data": {
      "text/plain": [
       "12.571428571428571"
      ]
     },
     "execution_count": 7,
     "metadata": {},
     "output_type": "execute_result"
    }
   ],
   "source": [
    "data['Var1'].iloc[labels.loc[labels[0] == 1].index.values].mean()"
   ]
  },
  {
   "cell_type": "code",
   "execution_count": 8,
   "metadata": {},
   "outputs": [],
   "source": [
    "def getCorrelation(data, labels, column, label_1, label_minus_1):\n",
    "    return data[column].iloc[labels.loc[labels[0] == label_1].index.values].mean() \\\n",
    "- data[column].iloc[labels.loc[labels[0] == label_minus_1].index.values].mean()"
   ]
  },
  {
   "cell_type": "code",
   "execution_count": 9,
   "metadata": {},
   "outputs": [
    {
     "data": {
      "text/plain": [
       "1.6704939919893196"
      ]
     },
     "execution_count": 9,
     "metadata": {},
     "output_type": "execute_result"
    }
   ],
   "source": [
    "getCorrelation(data,labels, 'Var1', 1, -1)"
   ]
  },
  {
   "cell_type": "code",
   "execution_count": 10,
   "metadata": {},
   "outputs": [],
   "source": [
    "import math\n",
    "corrs = {}\n",
    "for name in data.columns[0:190]:\n",
    "    val = abs(getCorrelation(data,labels, name, 1, -1))\n",
    "    if (math.isnan(val)):\n",
    "        val = 0.0\n",
    "    corrs[name] = val"
   ]
  },
  {
   "cell_type": "code",
   "execution_count": 11,
   "metadata": {},
   "outputs": [
    {
     "name": "stdout",
     "output_type": "stream",
     "text": [
      "['Var92', 'Var36', 'Var182', 'Var5', 'Var38', 'Var139', 'Var33', 'Var10', 'Var124', 'Var59', 'Var154', 'Var153', 'Var113', 'Var111', 'Var114', 'Var180', 'Var177', 'Var53', 'Var69', 'Var131']\n"
     ]
    }
   ],
   "source": [
    "print(sorted(corrs, key=corrs.__getitem__)[-20:])"
   ]
  },
  {
   "cell_type": "code",
   "execution_count": 12,
   "metadata": {},
   "outputs": [
    {
     "name": "stdout",
     "output_type": "stream",
     "text": [
      "key =  Var92  val =  57588.45971162\n",
      "key =  Var36  val =  57993.37464931124\n",
      "key =  Var182  val =  61614.77928464976\n",
      "key =  Var5  val =  66949.86675576452\n",
      "key =  Var38  val =  77671.00355923455\n",
      "key =  Var139  val =  95864.70072781143\n",
      "key =  Var33  val =  98084.97129186604\n",
      "key =  Var10  val =  101756.8609751385\n",
      "key =  Var124  val =  122003.96184798809\n",
      "key =  Var59  val =  130636.05560051865\n",
      "key =  Var154  val =  141731.55887850467\n",
      "key =  Var153  val =  151453.3519627573\n",
      "key =  Var113  val =  162842.18453814648\n",
      "key =  Var111  val =  193165.14612373238\n",
      "key =  Var114  val =  241634.73453810182\n",
      "key =  Var180  val =  320162.9532710281\n",
      "key =  Var177  val =  401748.7452799191\n",
      "key =  Var53  val =  438907.6790387182\n",
      "key =  Var69  val =  480858.38842908666\n",
      "key =  Var131  val =  10346077.81682243\n"
     ]
    }
   ],
   "source": [
    "for key in sorted(corrs, key=corrs.__getitem__)[-20:]:\n",
    "    print(\"key = \", key,\" val = \",corrs[key])"
   ]
  },
  {
   "cell_type": "markdown",
   "metadata": {},
   "source": [
    "4\\. Визуализируйте данные: рассмотрите топ 20 числовых переменных, наиболее сильно коррелирующих с целевой функцией. Для этих переменных постройте:\n",
    "* Распределения в разрезе классов\n",
    "* Отобразите объекты в координатах пар признаков"
   ]
  },
  {
   "cell_type": "code",
   "execution_count": 13,
   "metadata": {},
   "outputs": [
    {
     "name": "stdout",
     "output_type": "stream",
     "text": [
      "Populating the interactive namespace from numpy and matplotlib\n"
     ]
    }
   ],
   "source": [
    "%pylab inline"
   ]
  },
  {
   "cell_type": "code",
   "execution_count": 21,
   "metadata": {},
   "outputs": [
    {
     "data": {
      "text/plain": [
       "<matplotlib.collections.PathCollection at 0x7f45d84b4630>"
      ]
     },
     "execution_count": 21,
     "metadata": {},
     "output_type": "execute_result"
    },
    {
     "data": {
      "image/png": "[encoded data removed]",
      "text/plain": [
       "<Figure size 432x288 with 1 Axes>"
      ]
     },
     "metadata": {
      "needs_background": "light"
     },
     "output_type": "display_data"
    }
   ],
   "source": [
    "pylab.scatter(data['Var131'].loc[labels.index[labels[0] == -1].tolist()], \\\n",
    "              labels.loc[labels.index[labels[0] == -1].tolist()], color='r')\n",
    "pylab.scatter(data['Var131'].loc[labels.index[labels[0] == 1].tolist()], \\\n",
    "              labels.loc[labels.index[labels[0] == 1].tolist()], color='b')"
   ]
  },
  {
   "cell_type": "code",
   "execution_count": 27,
   "metadata": {},
   "outputs": [
    {
     "name": "stderr",
     "output_type": "stream",
     "text": [
      "/home/victor/anaconda3/lib/python3.7/site-packages/ipykernel_launcher.py:1: FutureWarning: 'pandas.tools.plotting.scatter_matrix' is deprecated, import 'pandas.plotting.scatter_matrix' instead.\n",
      "  \"\"\"Entry point for launching an IPython kernel.\n"
     ]
    },
    {
     "data": {
      "text/plain": [
       "array([[<matplotlib.axes._subplots.AxesSubplot object at 0x7f45d3f61128>,\n",
       "        <matplotlib.axes._subplots.AxesSubplot object at 0x7f45d20ad6a0>,\n",
       "        <matplotlib.axes._subplots.AxesSubplot object at 0x7f45d20d6c18>],\n",
       "       [<matplotlib.axes._subplots.AxesSubplot object at 0x7f45d20861d0>,\n",
       "        <matplotlib.axes._subplots.AxesSubplot object at 0x7f45d202e748>,\n",
       "        <matplotlib.axes._subplots.AxesSubplot object at 0x7f45d2057cc0>],\n",
       "       [<matplotlib.axes._subplots.AxesSubplot object at 0x7f45d2007278>,\n",
       "        <matplotlib.axes._subplots.AxesSubplot object at 0x7f45d1fae7f0>,\n",
       "        <matplotlib.axes._subplots.AxesSubplot object at 0x7f45d1fae828>]],\n",
       "      dtype=object)"
      ]
     },
     "execution_count": 27,
     "metadata": {},
     "output_type": "execute_result"
    },
    {
     "data": {
      "image/png": "[encoded data removed]",
      "text/plain": [
       "<Figure size 1080x1080 with 9 Axes>"
      ]
     },
     "metadata": {
      "needs_background": "light"
     },
     "output_type": "display_data"
    }
   ],
   "source": [
    "pd.tools.plotting.scatter_matrix(data[['Var131', 'Var69', 'Var53']], alpha=0.2, figsize=(15,15), diagonal='hist')"
   ]
  },
  {
   "cell_type": "markdown",
   "metadata": {},
   "source": [
    "5\\. Проделайте аналогичные шаги для случайно выбранных 10 числовых признаков."
   ]
  },
  {
   "cell_type": "code",
   "execution_count": null,
   "metadata": {},
   "outputs": [],
   "source": []
  },
  {
   "cell_type": "markdown",
   "metadata": {},
   "source": [
    "6\\. Проделайте аналогичные шаги для 10 числовых признаков, наименее сильно коррелирующих с целевой переменной."
   ]
  },
  {
   "cell_type": "code",
   "execution_count": null,
   "metadata": {},
   "outputs": [],
   "source": []
  },
  {
   "cell_type": "markdown",
   "metadata": {},
   "source": [
    "7\\. Посмотрите на категориальные переменные: постройте и сравните гистограммы значений категориальных переменных для разных классов."
   ]
  },
  {
   "cell_type": "code",
   "execution_count": null,
   "metadata": {},
   "outputs": [],
   "source": []
  },
  {
   "cell_type": "markdown",
   "metadata": {},
   "source": [
    "8\\. Проанализируйте полученные результаты:\n",
    "* Какие выводы вы можете сделать? Заметили ли вы какие-нибудь интересные закономерности?\n",
    "* На основании полученных изображений и таблиц, предположите, какие переменные окажут наибольшее влияние (вклад) в модель?\n",
    "* Какие переменные на ваш взгляд окажутся наименее полезными, шумовыми?\n",
    "* Как вы думаете, окажется ли отбор признаков полезным для построения модели?"
   ]
  },
  {
   "cell_type": "code",
   "execution_count": null,
   "metadata": {},
   "outputs": [],
   "source": []
  }
 ],
 "metadata": {
  "kernelspec": {
   "display_name": "Python 3",
   "language": "python",
   "name": "python3"
  },
  "language_info": {
   "codemirror_mode": {
    "name": "ipython",
    "version": 3
   },
   "file_extension": ".py",
   "mimetype": "text/x-python",
   "name": "python",
   "nbconvert_exporter": "python",
   "pygments_lexer": "ipython3",
   "version": "3.7.1"
  }
 },
 "nbformat": 4,
 "nbformat_minor": 1
}
